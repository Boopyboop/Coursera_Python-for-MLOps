{
 "cells": [
  {
   "cell_type": "code",
   "execution_count": 13,
   "id": "245f13dc",
   "metadata": {},
   "outputs": [],
   "source": [
    "from huggingface_hub import list_datasets\n",
    "from datasets import load_dataset\n"
   ]
  },
  {
   "cell_type": "code",
   "execution_count": 14,
   "id": "3b018c5d",
   "metadata": {},
   "outputs": [],
   "source": [
    "\n",
    "# List datasets (fast, without metadata)\n",
    "datasets_gen = list_datasets(search=\"amazon\",full=False)\n",
    "datasets_list = list(datasets_gen)\n"
   ]
  },
  {
   "cell_type": "code",
   "execution_count": 15,
   "id": "07a6afd0",
   "metadata": {},
   "outputs": [
    {
     "name": "stdout",
     "output_type": "stream",
     "text": [
      "Total datasets available: 1096\n",
      "First 10 datasets:\n",
      "- DatasetInfo(id='AmazonScience/document-haystack', author='AmazonScience', sha='ad154ff96aa3f4bffabffc039cd41f13e9322016', created_at=datetime.datetime(2025, 4, 28, 18, 52, 32, tzinfo=datetime.timezone.utc), last_modified=datetime.datetime(2025, 8, 4, 22, 4, 44, tzinfo=datetime.timezone.utc), private=False, gated=False, disabled=False, downloads=278, downloads_all_time=None, likes=4, paperswithcode_id=None, tags=['task_categories:question-answering', 'task_categories:visual-question-answering', 'task_categories:document-question-answering', 'language:en', 'modality:text', 'modality:image', 'modality:document', 'arxiv:2507.15882', 'region:us', 'long-context', 'multimodal', 'llm', 'vlm', 'benchmark', 'text', 'image', 'vision', 'document', 'pdf'], trending_score=4, card_data=None, siblings=None, xet_enabled=None)\n",
      "- DatasetInfo(id='McAuley-Lab/Amazon-Reviews-2023', author='McAuley-Lab', sha='2b6d039ed471f2ba5fd2acb718bf33b0a7e5598e', created_at=datetime.datetime(2024, 1, 23, 4, 53, 25, tzinfo=datetime.timezone.utc), last_modified=datetime.datetime(2024, 12, 8, 22, 21, 49, tzinfo=datetime.timezone.utc), private=False, gated=False, disabled=False, downloads=22749, downloads_all_time=None, likes=179, paperswithcode_id=None, tags=['language:en', 'size_categories:10B<n<100B', 'arxiv:2403.03952', 'region:us', 'recommendation', 'reviews'], trending_score=3, card_data=None, siblings=None, xet_enabled=None)\n",
      "- DatasetInfo(id='SetFit/amazon_massive_intent_en-US', author='SetFit', sha='f7672a018e8ceb37fc0184dcfbb7e665155ffea6', created_at=datetime.datetime(2022, 5, 6, 9, 7, 57, tzinfo=datetime.timezone.utc), last_modified=datetime.datetime(2022, 5, 6, 9, 8, tzinfo=datetime.timezone.utc), private=False, gated=False, disabled=False, downloads=47, downloads_all_time=None, likes=9, paperswithcode_id=None, tags=['size_categories:10K<n<100K', 'format:json', 'modality:text', 'library:datasets', 'library:pandas', 'library:mlcroissant', 'library:polars', 'region:us'], trending_score=1, card_data=None, siblings=None, xet_enabled=None)\n",
      "- DatasetInfo(id='SetFit/amazon_massive_intent_sw-KE', author='SetFit', sha='04cfa3a5cda0234b5bc4ce7e2392e3bb7c3d8f53', created_at=datetime.datetime(2022, 5, 6, 9, 11, 15, tzinfo=datetime.timezone.utc), last_modified=datetime.datetime(2022, 5, 6, 9, 11, 19, tzinfo=datetime.timezone.utc), private=False, gated=False, disabled=False, downloads=7, downloads_all_time=None, likes=1, paperswithcode_id=None, tags=['size_categories:10K<n<100K', 'format:json', 'modality:text', 'library:datasets', 'library:pandas', 'library:mlcroissant', 'library:polars', 'region:us'], trending_score=1, card_data=None, siblings=None, xet_enabled=None)\n",
      "- DatasetInfo(id='SetFit/amazon_massive_intent_zh-CN', author='SetFit', sha='2d22dfb0ce80a74e8350417c0435223ac0e2ef7c', created_at=datetime.datetime(2022, 5, 6, 9, 12, 7, tzinfo=datetime.timezone.utc), last_modified=datetime.datetime(2022, 6, 20, 14, 31, 57, tzinfo=datetime.timezone.utc), private=False, gated=False, disabled=False, downloads=51, downloads_all_time=None, likes=5, paperswithcode_id=None, tags=['size_categories:10K<n<100K', 'format:json', 'modality:text', 'library:datasets', 'library:pandas', 'library:mlcroissant', 'library:polars', 'region:us'], trending_score=1, card_data=None, siblings=None, xet_enabled=None)\n",
      "- DatasetInfo(id='mteb/amazon_massive_intent', author='mteb', sha='d189f0ff91cc89665ddc5185f7267979c0314718', created_at=datetime.datetime(2022, 5, 15, 20, 59, 15, tzinfo=datetime.timezone.utc), last_modified=datetime.datetime(2025, 5, 4, 16, 8, 3, tzinfo=datetime.timezone.utc), private=False, gated=False, disabled=False, downloads=4901, downloads_all_time=None, likes=24, paperswithcode_id=None, tags=['task_categories:text-classification', 'annotations_creators:human-annotated', 'multilinguality:translated', 'language:afr', 'language:amh', 'language:ara', 'language:aze', 'language:ben', 'language:cmo', 'language:cym', 'language:dan', 'language:deu', 'language:ell', 'language:eng', 'language:fas', 'language:fin', 'language:fra', 'language:heb', 'language:hin', 'language:hun', 'language:hye', 'language:ind', 'language:isl', 'language:ita', 'language:jav', 'language:jpn', 'language:kan', 'language:kat', 'language:khm', 'language:kor', 'language:lav', 'language:mal', 'language:mon', 'language:msa', 'language:mya', 'language:nld', 'language:nob', 'language:pol', 'language:por', 'language:ron', 'language:rus', 'language:slv', 'language:spa', 'language:sqi', 'language:swa', 'language:swe', 'language:tam', 'language:tel', 'language:tgl', 'language:tha', 'language:tur', 'language:urd', 'language:vie', 'license:apache-2.0', 'size_categories:1M<n<10M', 'format:json', 'modality:text', 'library:datasets', 'library:dask', 'library:mlcroissant', 'arxiv:2204.08582', 'arxiv:2502.13595', 'arxiv:2210.07316', 'region:us', 'mteb', 'text'], trending_score=1, card_data=None, siblings=None, xet_enabled=None)\n",
      "- DatasetInfo(id='vessl/amazon-beauty-dataset', author='vessl', sha='fc042c3489014d38b2d778e89d11343be1e5abf7', created_at=datetime.datetime(2024, 2, 12, 12, 4, 42, tzinfo=datetime.timezone.utc), last_modified=datetime.datetime(2024, 2, 12, 12, 10, 27, tzinfo=datetime.timezone.utc), private=False, gated=False, disabled=False, downloads=25, downloads_all_time=None, likes=1, paperswithcode_id=None, tags=['size_categories:1M<n<10M', 'format:csv', 'modality:tabular', 'modality:text', 'library:datasets', 'library:pandas', 'library:mlcroissant', 'library:polars', 'region:us'], trending_score=1, card_data=None, siblings=None, xet_enabled=None)\n",
      "- DatasetInfo(id='jingxiang11111/amazon_reviews_for_rec', author='jingxiang11111', sha='692fdc78900ea40047b5e4f3312a2b11e105f08a', created_at=datetime.datetime(2025, 7, 29, 3, 5, 12, tzinfo=datetime.timezone.utc), last_modified=datetime.datetime(2025, 8, 2, 5, 39, 14, tzinfo=datetime.timezone.utc), private=False, gated=False, disabled=False, downloads=172, downloads_all_time=None, likes=1, paperswithcode_id=None, tags=['license:mit', 'size_categories:1M<n<10M', 'library:webdataset', 'region:us', 'recommendation-system', 'multimodal', 'e-commerce', 'amazon', 'webdataset', 'computer-vision', 'nlp', 'pyddp'], trending_score=1, card_data=None, siblings=None, xet_enabled=None)\n",
      "- DatasetInfo(id='fancyzhx/amazon_polarity', author='fancyzhx', sha='9d9c45c18f8c3cf1b23a3c27917b60cbf28f3289', created_at=datetime.datetime(2022, 3, 2, 23, 29, 22, tzinfo=datetime.timezone.utc), last_modified=datetime.datetime(2024, 1, 9, 12, 23, 33, tzinfo=datetime.timezone.utc), private=False, gated=False, disabled=False, downloads=4475, downloads_all_time=None, likes=46, paperswithcode_id=None, tags=['task_categories:text-classification', 'task_ids:sentiment-classification', 'annotations_creators:crowdsourced', 'language_creators:crowdsourced', 'multilinguality:monolingual', 'source_datasets:original', 'language:en', 'license:apache-2.0', 'size_categories:1M<n<10M', 'format:parquet', 'modality:text', 'library:datasets', 'library:dask', 'library:mlcroissant', 'library:polars', 'arxiv:1509.01626', 'region:us'], trending_score=0, card_data=None, siblings=None, xet_enabled=None)\n",
      "- DatasetInfo(id='defunct-datasets/amazon_reviews_multi', author='defunct-datasets', sha='b6115b04af1d02b3c30849bdd4c55899bff0ae63', created_at=datetime.datetime(2022, 3, 2, 23, 29, 22, tzinfo=datetime.timezone.utc), last_modified=datetime.datetime(2023, 11, 2, 14, 52, 21, tzinfo=datetime.timezone.utc), private=False, gated=False, disabled=False, downloads=1034, downloads_all_time=None, likes=99, paperswithcode_id=None, tags=['task_categories:summarization', 'task_categories:text-generation', 'task_categories:fill-mask', 'task_categories:text-classification', 'task_ids:text-scoring', 'task_ids:language-modeling', 'task_ids:masked-language-modeling', 'task_ids:sentiment-classification', 'task_ids:sentiment-scoring', 'task_ids:topic-classification', 'annotations_creators:found', 'language_creators:found', 'multilinguality:monolingual', 'multilinguality:multilingual', 'source_datasets:original', 'language:de', 'language:en', 'language:es', 'language:fr', 'language:ja', 'language:zh', 'license:other', 'size_categories:100K<n<1M', 'arxiv:2010.02573', 'region:us'], trending_score=0, card_data=None, siblings=None, xet_enabled=None)\n"
     ]
    }
   ],
   "source": [
    "\n",
    "print(f\"Total datasets available: {len(datasets_list)}\")\n",
    "print(\"First 10 datasets:\")\n",
    "for name in datasets_list[:10]:\n",
    "    print(\"-\", name)\n"
   ]
  },
  {
   "cell_type": "code",
   "execution_count": 17,
   "id": "388cb1f3",
   "metadata": {},
   "outputs": [
    {
     "data": {
      "application/vnd.jupyter.widget-view+json": {
       "model_id": "19697081cf624db690d82575230b03f1",
       "version_major": 2,
       "version_minor": 0
      },
      "text/plain": [
       "README.md: 0.00B [00:00, ?B/s]"
      ]
     },
     "metadata": {},
     "output_type": "display_data"
    },
    {
     "name": "stderr",
     "output_type": "stream",
     "text": [
      "c:\\Users\\manon\\Documents\\20_MonteeCompetences\\Coursera_MLOps\\Python-for-MLOps\\.venv\\Lib\\site-packages\\huggingface_hub\\file_download.py:143: UserWarning: `huggingface_hub` cache-system uses symlinks by default to efficiently store duplicated files but your machine does not support them in C:\\Users\\manon\\.cache\\huggingface\\hub\\datasets--imdb. Caching files will still work but in a degraded version that might require more space on your disk. This warning can be disabled by setting the `HF_HUB_DISABLE_SYMLINKS_WARNING` environment variable. For more details, see https://huggingface.co/docs/huggingface_hub/how-to-cache#limitations.\n",
      "To support symlinks on Windows, you either need to activate Developer Mode or to run Python as an administrator. In order to activate developer mode, see this article: https://docs.microsoft.com/en-us/windows/apps/get-started/enable-your-device-for-development\n",
      "  warnings.warn(message)\n"
     ]
    },
    {
     "data": {
      "application/vnd.jupyter.widget-view+json": {
       "model_id": "67a5fcd9f8b04798804ba147893d9685",
       "version_major": 2,
       "version_minor": 0
      },
      "text/plain": [
       "train-00000-of-00001.parquet:   0%|          | 0.00/21.0M [00:00<?, ?B/s]"
      ]
     },
     "metadata": {},
     "output_type": "display_data"
    },
    {
     "data": {
      "application/vnd.jupyter.widget-view+json": {
       "model_id": "f06aa2de43854bf2a71a58f73f418bf6",
       "version_major": 2,
       "version_minor": 0
      },
      "text/plain": [
       "test-00000-of-00001.parquet:   0%|          | 0.00/20.5M [00:00<?, ?B/s]"
      ]
     },
     "metadata": {},
     "output_type": "display_data"
    },
    {
     "data": {
      "application/vnd.jupyter.widget-view+json": {
       "model_id": "b7b8b724793d4868a1fef78e186f6eba",
       "version_major": 2,
       "version_minor": 0
      },
      "text/plain": [
       "unsupervised-00000-of-00001.parquet:   0%|          | 0.00/42.0M [00:00<?, ?B/s]"
      ]
     },
     "metadata": {},
     "output_type": "display_data"
    },
    {
     "data": {
      "application/vnd.jupyter.widget-view+json": {
       "model_id": "67b02d8f951e40269eeaeabba4e6a79d",
       "version_major": 2,
       "version_minor": 0
      },
      "text/plain": [
       "Generating train split:   0%|          | 0/25000 [00:00<?, ? examples/s]"
      ]
     },
     "metadata": {},
     "output_type": "display_data"
    },
    {
     "data": {
      "application/vnd.jupyter.widget-view+json": {
       "model_id": "1672a716aee84e81b8a25d3fda6791d2",
       "version_major": 2,
       "version_minor": 0
      },
      "text/plain": [
       "Generating test split:   0%|          | 0/25000 [00:00<?, ? examples/s]"
      ]
     },
     "metadata": {},
     "output_type": "display_data"
    },
    {
     "data": {
      "application/vnd.jupyter.widget-view+json": {
       "model_id": "4a26795da0d24b01899414588ff756b0",
       "version_major": 2,
       "version_minor": 0
      },
      "text/plain": [
       "Generating unsupervised split:   0%|          | 0/50000 [00:00<?, ? examples/s]"
      ]
     },
     "metadata": {},
     "output_type": "display_data"
    }
   ],
   "source": [
    "\n",
    "# Load a sample dataset\n",
    "dataset_name = \"imdb\"\n",
    "dataset = load_dataset(dataset_name)\n",
    "\n"
   ]
  },
  {
   "cell_type": "code",
   "execution_count": 18,
   "id": "92eddf05",
   "metadata": {},
   "outputs": [
    {
     "name": "stdout",
     "output_type": "stream",
     "text": [
      "\n",
      "Dataset splits: dict_keys(['train', 'test', 'unsupervised'])\n",
      "Features in 'train': {'text': Value('string'), 'label': ClassLabel(names=['neg', 'pos'])}\n",
      "Number of rows in 'train': 25000\n"
     ]
    }
   ],
   "source": [
    "\n",
    "# Display dataset structure\n",
    "print(\"\\nDataset splits:\", dataset.keys())\n",
    "print(\"Features in 'train':\", dataset[\"train\"].features)\n",
    "print(\"Number of rows in 'train':\", len(dataset[\"train\"]))"
   ]
  },
  {
   "cell_type": "code",
   "execution_count": 19,
   "id": "202a050f",
   "metadata": {},
   "outputs": [],
   "source": [
    "# Convert to pandas DataFrame\n",
    "df_train = dataset[\"train\"].to_pandas()\n"
   ]
  },
  {
   "cell_type": "code",
   "execution_count": 20,
   "id": "782cda29",
   "metadata": {},
   "outputs": [
    {
     "name": "stdout",
     "output_type": "stream",
     "text": [
      "\n",
      "DataFrame Info:\n",
      "<class 'pandas.core.frame.DataFrame'>\n",
      "RangeIndex: 25000 entries, 0 to 24999\n",
      "Data columns (total 2 columns):\n",
      " #   Column  Non-Null Count  Dtype \n",
      "---  ------  --------------  ----- \n",
      " 0   text    25000 non-null  object\n",
      " 1   label   25000 non-null  int64 \n",
      "dtypes: int64(1), object(1)\n",
      "memory usage: 390.8+ KB\n",
      "None\n"
     ]
    }
   ],
   "source": [
    "# Explore the DataFrame\n",
    "print(\"\\nDataFrame Info:\")\n",
    "print(df_train.info())"
   ]
  },
  {
   "cell_type": "code",
   "execution_count": 21,
   "id": "c90be82a",
   "metadata": {},
   "outputs": [
    {
     "name": "stdout",
     "output_type": "stream",
     "text": [
      "\n",
      "First 5 rows:\n",
      "                                                text  label\n",
      "0  I rented I AM CURIOUS-YELLOW from my video sto...      0\n",
      "1  \"I Am Curious: Yellow\" is a risible and preten...      0\n",
      "2  If only to avoid making this type of film in t...      0\n",
      "3  This film was probably inspired by Godard's Ma...      0\n",
      "4  Oh, brother...after hearing about this ridicul...      0\n"
     ]
    }
   ],
   "source": [
    "print(\"\\nFirst 5 rows:\")\n",
    "print(df_train.head())\n"
   ]
  },
  {
   "cell_type": "code",
   "execution_count": 22,
   "id": "db5ce07f",
   "metadata": {},
   "outputs": [
    {
     "name": "stdout",
     "output_type": "stream",
     "text": [
      "\n",
      "Descriptive Statistics:\n",
      "                                                     text        label\n",
      "count                                               25000  25000.00000\n",
      "unique                                              24904          NaN\n",
      "top     This show comes up with interesting locations ...          NaN\n",
      "freq                                                    3          NaN\n",
      "mean                                                  NaN      0.50000\n",
      "std                                                   NaN      0.50001\n",
      "min                                                   NaN      0.00000\n",
      "25%                                                   NaN      0.00000\n",
      "50%                                                   NaN      0.50000\n",
      "75%                                                   NaN      1.00000\n",
      "max                                                   NaN      1.00000\n"
     ]
    }
   ],
   "source": [
    "print(\"\\nDescriptive Statistics:\"\n",
    "      )\n",
    "print(df_train.describe(include='all'))\n"
   ]
  },
  {
   "cell_type": "code",
   "execution_count": null,
   "id": "704e67bb",
   "metadata": {},
   "outputs": [],
   "source": []
  }
 ],
 "metadata": {
  "kernelspec": {
   "display_name": ".venv (3.12.10)",
   "language": "python",
   "name": "python3"
  },
  "language_info": {
   "codemirror_mode": {
    "name": "ipython",
    "version": 3
   },
   "file_extension": ".py",
   "mimetype": "text/x-python",
   "name": "python",
   "nbconvert_exporter": "python",
   "pygments_lexer": "ipython3",
   "version": "3.12.10"
  }
 },
 "nbformat": 4,
 "nbformat_minor": 5
}
